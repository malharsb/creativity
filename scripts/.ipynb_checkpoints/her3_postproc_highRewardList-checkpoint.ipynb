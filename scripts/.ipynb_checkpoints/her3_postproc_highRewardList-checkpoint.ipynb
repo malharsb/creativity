{
 "cells": [
  {
   "cell_type": "markdown",
   "metadata": {},
   "source": [
    "## Script to Create a XYZ Box and Target coordinates for export to Simulator"
   ]
  },
  {
   "cell_type": "markdown",
   "metadata": {},
   "source": [
    "### Import High Reward List"
   ]
  },
  {
   "cell_type": "code",
   "execution_count": 1,
   "metadata": {},
   "outputs": [],
   "source": [
    "import numpy as np\n",
    "import csv\n",
    "import glob"
   ]
  },
  {
   "cell_type": "code",
   "execution_count": 2,
   "metadata": {},
   "outputs": [
    {
     "name": "stdout",
     "output_type": "stream",
     "text": [
      "[    0     3     5 ... 28226 28229 28246]\n"
     ]
    }
   ],
   "source": [
    "highRewardList = np.load('../outputs/highRewardList.npy')\n",
    "print(highRewardList)"
   ]
  },
  {
   "cell_type": "code",
   "execution_count": 3,
   "metadata": {},
   "outputs": [
    {
     "name": "stdout",
     "output_type": "stream",
     "text": [
      "Length of file:  28256\n",
      "../her_throw1_playback/steps/000000000500.monitor.csv\n"
     ]
    }
   ],
   "source": [
    "#Create a list of all file names\n",
    "filenames_list = sorted(glob.glob('../her_throw1_playback/steps/*monitor.csv'))\n",
    "print('Length of file: ',len(filenames_list)) \n",
    "print(filenames_list[500])"
   ]
  },
  {
   "cell_type": "code",
   "execution_count": 10,
   "metadata": {},
   "outputs": [
    {
     "name": "stdout",
     "output_type": "stream",
     "text": [
      "<class 'numpy.ndarray'>\n"
     ]
    }
   ],
   "source": [
    "#Create a list of Goal XYZ coordinates and Box XYZ Coordinates from HighRewardList\n",
    "\n",
    "goalXYZ=[]\n",
    "boxXYZ=[]\n",
    "\n",
    "highRewardList = np.array(highRewardList)\n",
    "print(type(highRewardList))\n",
    "\n",
    "for file in highRewardList:\n",
    "\n",
    "    with open(filenames_list[file]) as csv_file:\n",
    "        episodeMTX = list(csv.reader(csv_file, delimiter=','))\n",
    "    del episodeMTX[:2]\n",
    "    \n",
    "    step = episodeMTX[0]\n",
    "    goalXYZ.append((np.double(step[11]),np.double(step[12]),np.double(step[13])))\n",
    "    boxXYZ.append((np.double(step[8]),np.double(step[9]),np.double(step[10])))\n",
    "\n",
    "goalXYZ=np.array(goalXYZ)\n",
    "boxXYZ=np.array(boxXYZ)\n",
    "highRewCoords = np.column_stack((boxXYZ,goalXYZ))"
   ]
  },
  {
   "cell_type": "code",
   "execution_count": 11,
   "metadata": {},
   "outputs": [
    {
     "name": "stdout",
     "output_type": "stream",
     "text": [
      "[[1.06580355 0.84566025 0.36473541 1.31892696 0.79792148 0.36469864]\n",
      " [1.08352581 0.77862728 0.36473541 1.39297097 0.71238377 0.36469864]\n",
      " [1.07729884 0.80242089 0.36473541 1.48101534 0.81746987 0.36469864]\n",
      " ...\n",
      " [1.04194328 0.66513661 0.36473541 1.26627969 0.6107252  0.36469864]\n",
      " [1.02773669 0.84901049 0.36473541 1.27746939 0.65663477 0.36469864]\n",
      " [0.96005696 0.84771458 0.36473541 1.43546153 0.81027629 0.36469864]]\n"
     ]
    }
   ],
   "source": [
    "print(highRewCoords)\n",
    "#np.save('boxXYZgoalXYZ.npy', highRewCoords)"
   ]
  },
  {
   "cell_type": "markdown",
   "metadata": {},
   "source": [
    "## Script to Obtain xyz-coordinates of Goal and Box for Individual Episodes - from filenames_list"
   ]
  },
  {
   "cell_type": "code",
   "execution_count": 12,
   "metadata": {},
   "outputs": [
    {
     "name": "stdout",
     "output_type": "stream",
     "text": [
      "[270, 7220, 7511, 8348, 8834]\n"
     ]
    }
   ],
   "source": [
    "#1 Define Custom Variety List\n"
   ]
  },
  {
   "cell_type": "code",
   "execution_count": 13,
   "metadata": {},
   "outputs": [
    {
     "name": "stdout",
     "output_type": "stream",
     "text": [
      "[[0.90883628 0.84040299 0.36473541 1.36775149 0.70287    0.36469864]\n",
      " [1.08354711 0.69325057 0.36473541 1.36070779 0.81162762 0.36469864]\n",
      " [1.08251427 0.6991847  0.36473541 1.43596654 0.81338913 0.36469864]\n",
      " [1.05654836 0.82640226 0.36473541 1.34551548 0.69243773 0.36469864]\n",
      " [0.88773965 0.78044228 0.36473541 1.29340094 0.64843517 0.36469864]]\n"
     ]
    }
   ],
   "source": [
    "#2 Script to populate boxXYZ list and goal XYZ list, and combine them\n",
    "boxXYZ=[]\n",
    "goalXYZ=[]\n",
    "\n",
    "for file in varietyList:\n",
    "\n",
    "    with open(filenames_list[file]) as csv_file:\n",
    "        episodeMTX = list(csv.reader(csv_file, delimiter=','))\n",
    "    del episodeMTX[:2]\n",
    "    \n",
    "    step = episodeMTX[0]\n",
    "    goalXYZ.append((np.double(step[11]),np.double(step[12]),np.double(step[13])))\n",
    "    boxXYZ.append((np.double(step[8]),np.double(step[9]),np.double(step[10])))\n",
    "\n",
    "goalXYZ=np.array(goalXYZ)\n",
    "boxXYZ=np.array(boxXYZ)\n",
    "customList = np.column_stack((boxXYZ,goalXYZ))\n",
    "print(customList)"
   ]
  },
  {
   "cell_type": "code",
   "execution_count": 4,
   "metadata": {},
   "outputs": [],
   "source": [
    "#3 Save HighRewardList\n",
    "\n",
    "#np.save('../outputs/boxXYZgoalXYZ_1.npy',highRewCoords)\n",
    "#np.save('../outputs/boxXYZgoalXYZ_single.npy',highRewCoords)"
   ]
  },
  {
   "cell_type": "code",
   "execution_count": null,
   "metadata": {},
   "outputs": [],
   "source": []
  }
 ],
 "metadata": {
  "kernelspec": {
   "display_name": "Python 3",
   "language": "python",
   "name": "python3"
  },
  "language_info": {
   "codemirror_mode": {
    "name": "ipython",
    "version": 3
   },
   "file_extension": ".py",
   "mimetype": "text/x-python",
   "name": "python",
   "nbconvert_exporter": "python",
   "pygments_lexer": "ipython3",
   "version": "3.6.9"
  }
 },
 "nbformat": 4,
 "nbformat_minor": 2
}
